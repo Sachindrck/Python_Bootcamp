{
 "cells": [
  {
   "cell_type": "markdown",
   "metadata": {},
   "source": [
    "# Milestone Project 1: Walkthrough Steps Workbook\n",
    "\n",
    "Below is a set of steps for you to follow to try to create the Tic Tac Toe Milestone Project game!"
   ]
  },
  {
   "cell_type": "markdown",
   "metadata": {},
   "source": [
    "#### Some suggested tools before you get started:\n",
    "To take input from a user:\n",
    "\n",
    "    player1 = input(\"Please pick a marker 'X' or 'O'\")\n",
    "    \n",
    "Note that input() takes in a string. If you need an integer value, use\n",
    "\n",
    "    position = int(input('Please enter a number'))\n",
    "    \n",
    "<br>To clear the screen between moves:\n",
    "\n",
    "    from IPython.display import clear_output\n",
    "    clear_output()\n",
    "    \n",
    "Note that clear_output() will only work in jupyter. To clear the screen in other IDEs, consider:\n",
    "\n",
    "    print('\\n'*100)\n",
    "    \n",
    "This scrolls the previous board up out of view. Now on to the program!"
   ]
  },
  {
   "cell_type": "markdown",
   "metadata": {},
   "source": [
    "**Step 1: Write a function that can print out a board. Set up your board as a list, where each index 1-9 corresponds with a number on a number pad, so you get a 3 by 3 board representation.**"
   ]
  },
  {
   "cell_type": "code",
   "execution_count": 1,
   "metadata": {},
   "outputs": [],
   "source": [
    "from IPython.display import clear_output\n",
    "\n",
    "def display_board(board):\n",
    "    \n",
    "    clear_output()\n",
    "    print('   |    |  ')\n",
    "    print(board[1] + '  | ' + board[2] + '  | ' + board[3])\n",
    "    print('___|____|___')\n",
    "    print('   |    |  ')\n",
    "    print(board[4] + '  | ' + board[5] + '  | ' + board[6])\n",
    "    print('___|____|___')\n",
    "    print('   |    |  ')\n",
    "    print(board[7] + '  | ' + board[8] + '  | ' + board[9])\n",
    "    print('   |    |  ')\n",
    "        "
   ]
  },
  {
   "cell_type": "code",
   "execution_count": 2,
   "metadata": {},
   "outputs": [
    {
     "data": {
      "text/plain": [
       "\"test_board = ['#','X','O','X','O','X','O','X','O','X']\\ndisplay_board(test_board)\""
      ]
     },
     "execution_count": 2,
     "metadata": {},
     "output_type": "execute_result"
    }
   ],
   "source": [
    "'''test_board = ['#','X','O','X','O','X','O','X','O','X']\n",
    "display_board(test_board)'''"
   ]
  },
  {
   "cell_type": "markdown",
   "metadata": {},
   "source": [
    "**TEST Step 1:** run your function on a test version of the board list, and make adjustments as necessary"
   ]
  },
  {
   "cell_type": "markdown",
   "metadata": {},
   "source": [
    "**Step 2: Write a function that can take in a player input and assign their marker as 'X' or 'O'. Think about using *while* loops to continually ask until you get a correct answer.**"
   ]
  },
  {
   "cell_type": "code",
   "execution_count": 3,
   "metadata": {},
   "outputs": [],
   "source": [
    "def player_marks(num):\n",
    "    try:\n",
    "        while (True):\n",
    "            if num == 1:\n",
    "                player1 = input(\"Player1 please pick a marker 'X' or 'O'\")\n",
    "                if player1 == 'X':\n",
    "                    player2 = 'O'\n",
    "                    break\n",
    "                else:\n",
    "                    player2 = 'X'\n",
    "                    break\n",
    "            else:\n",
    "                player2 = input(\"Player2 please pick a marker 'X' or 'O'\")\n",
    "                if player2 == 'X':\n",
    "                    player1 = 'O'\n",
    "                    break\n",
    "                else:\n",
    "                    player1 = 'X'\n",
    "                    break\n",
    "        return player1, player2\n",
    "    except:\n",
    "        print('Invalid Entry.')"
   ]
  },
  {
   "cell_type": "code",
   "execution_count": 4,
   "metadata": {},
   "outputs": [
    {
     "data": {
      "text/plain": [
       "'def player_input():\\n    mark = input(\"Please pick a marker \\'X\\' or \\'O\\'\")\\n    \\n    return mark'"
      ]
     },
     "execution_count": 4,
     "metadata": {},
     "output_type": "execute_result"
    }
   ],
   "source": [
    "'''def player_input():\n",
    "    mark = input(\"Please pick a marker 'X' or 'O'\")\n",
    "    \n",
    "    return mark'''"
   ]
  },
  {
   "cell_type": "markdown",
   "metadata": {},
   "source": [
    "**TEST Step 2:** run the function to make sure it returns the desired output"
   ]
  },
  {
   "cell_type": "markdown",
   "metadata": {},
   "source": [
    "**Step 3: Write a function that takes in the board list object, a marker ('X' or 'O'), and a desired position (number 1-9) and assigns it to the board.**"
   ]
  },
  {
   "cell_type": "code",
   "execution_count": 5,
   "metadata": {},
   "outputs": [],
   "source": [
    "def place_marker(board, marker, position):\n",
    "    try:\n",
    "        if board[position] == ' ':\n",
    "            board[position] = marker\n",
    "    except:\n",
    "        print('Invalid Position')"
   ]
  },
  {
   "cell_type": "markdown",
   "metadata": {},
   "source": [
    "**TEST Step 3:** run the place marker function using test parameters and display the modified board"
   ]
  },
  {
   "cell_type": "code",
   "execution_count": 6,
   "metadata": {},
   "outputs": [
    {
     "data": {
      "text/plain": [
       "\"place_marker(test_board,'$',8)\\ndisplay_board(test_board)\""
      ]
     },
     "execution_count": 6,
     "metadata": {},
     "output_type": "execute_result"
    }
   ],
   "source": [
    "'''place_marker(test_board,'$',8)\n",
    "display_board(test_board)'''"
   ]
  },
  {
   "cell_type": "markdown",
   "metadata": {},
   "source": [
    "**Step 4: Write a function that takes in a board and a mark (X or O) and then checks to see if that mark has won. **"
   ]
  },
  {
   "cell_type": "code",
   "execution_count": 7,
   "metadata": {},
   "outputs": [],
   "source": [
    "def win_check(board, mark):\n",
    "    if board[1] == mark and board[2] == mark and board[3] == mark:\n",
    "        return True\n",
    "    elif board[1] == mark and board[4] == mark and board[7] == mark:\n",
    "        return True\n",
    "    elif board[1] == mark and board[5] == mark and board[9] == mark:\n",
    "        return True\n",
    "    elif board[2] == mark and board[5] == mark and board[8] == mark:\n",
    "        return True\n",
    "    elif board[3] == mark and board[6] == mark and board[9] == mark:\n",
    "        return True\n",
    "    elif board[3] == mark and board[5] == mark and board[7] == mark:\n",
    "        return True\n",
    "    elif board[4] == mark and board[5] == mark and board[6] == mark:\n",
    "        return True\n",
    "    elif board[7] == mark and board[8] == mark and board[9] == mark:\n",
    "        return True"
   ]
  },
  {
   "cell_type": "markdown",
   "metadata": {},
   "source": [
    "**TEST Step 4:** run the win_check function against our test_board - it should return True"
   ]
  },
  {
   "cell_type": "code",
   "execution_count": 8,
   "metadata": {},
   "outputs": [],
   "source": [
    "#win_check(test_board,'X')"
   ]
  },
  {
   "cell_type": "markdown",
   "metadata": {},
   "source": [
    "**Step 5: Write a function that uses the random module to randomly decide which player goes first. You may want to lookup random.randint() Return a string of which player went first.**"
   ]
  },
  {
   "cell_type": "code",
   "execution_count": 9,
   "metadata": {},
   "outputs": [],
   "source": [
    "import random\n",
    "\n",
    "def choose_first():\n",
    "    fr = random.randint(1, 2)\n",
    "    return fr"
   ]
  },
  {
   "cell_type": "code",
   "execution_count": 10,
   "metadata": {},
   "outputs": [
    {
     "data": {
      "text/plain": [
       "1"
      ]
     },
     "execution_count": 10,
     "metadata": {},
     "output_type": "execute_result"
    }
   ],
   "source": [
    "choose_first()"
   ]
  },
  {
   "cell_type": "markdown",
   "metadata": {},
   "source": [
    "**Step 6: Write a function that returns a boolean indicating whether a space on the board is freely available.**"
   ]
  },
  {
   "cell_type": "code",
   "execution_count": 11,
   "metadata": {},
   "outputs": [],
   "source": [
    "def space_check(board, position):\n",
    "    if board[position] == ' ':\n",
    "        return True\n",
    "    return False"
   ]
  },
  {
   "cell_type": "markdown",
   "metadata": {},
   "source": [
    "**Step 7: Write a function that checks if the board is full and returns a boolean value. True if full, False otherwise.**"
   ]
  },
  {
   "cell_type": "code",
   "execution_count": 12,
   "metadata": {},
   "outputs": [],
   "source": [
    "def full_board_check(board):\n",
    "    return ' ' in board"
   ]
  },
  {
   "cell_type": "markdown",
   "metadata": {},
   "source": [
    "**Step 8: Write a function that asks for a player's next position (as a number 1-9) and then uses the function from step 6 to check if it's a free position. If it is, then return the position for later use.**"
   ]
  },
  {
   "cell_type": "code",
   "execution_count": 13,
   "metadata": {},
   "outputs": [],
   "source": [
    "def player_choice(board):\n",
    "    try:\n",
    "        position = int(input('Please enter a position for your marker'))\n",
    "        if position == 0:\n",
    "            return 0\n",
    "\n",
    "        if space_check(board, position):\n",
    "            return position\n",
    "        \n",
    "    except:\n",
    "        print('Invalid Entry, Please choose a position(positive integer).')"
   ]
  },
  {
   "cell_type": "markdown",
   "metadata": {},
   "source": [
    "**Step 9: Write a function that asks the player if they want to play again and returns a boolean True if they do want to play again.**"
   ]
  },
  {
   "cell_type": "code",
   "execution_count": 14,
   "metadata": {},
   "outputs": [],
   "source": [
    "def replay():\n",
    "    ch = input('Do you want to play again? \"Yes\" or \"No\" \\n')\n",
    "    if ch == 'Yes':\n",
    "        return True\n",
    "    else:\n",
    "        print('Okay, BYE! Have a good day! Return soon folk')\n",
    "        return False"
   ]
  },
  {
   "cell_type": "code",
   "execution_count": 15,
   "metadata": {},
   "outputs": [],
   "source": [
    "def diagram():\n",
    "    \n",
    "    print('This is your playing board!')\n",
    "    print('   |    |  ')\n",
    "    print('1' + '  | ' + '2' + '  | ' + '3')\n",
    "    print('___|____|___')\n",
    "    print('   |    |  ')\n",
    "    print('4' + '  | ' + '5' + '  | ' + '6')\n",
    "    print('___|____|___')\n",
    "    print('   |    |  ')\n",
    "    print('7' + '  | ' + '8' + '  | ' + '9')\n",
    "    print('   |    |  \\n')\n",
    "    \n",
    "    print('If you want to stop, please input \"0\"')"
   ]
  },
  {
   "cell_type": "markdown",
   "metadata": {
    "collapsed": true
   },
   "source": [
    "**Step 10: Here comes the hard part! Use while loops and the functions you've made to run the game!**"
   ]
  },
  {
   "cell_type": "code",
   "execution_count": 18,
   "metadata": {
    "scrolled": true
   },
   "outputs": [
    {
     "name": "stdout",
     "output_type": "stream",
     "text": [
      "   |    |  \n",
      "X  | O  | X\n",
      "___|____|___\n",
      "   |    |  \n",
      "   | O  |  \n",
      "___|____|___\n",
      "   |    |  \n",
      "   | O  |  \n",
      "   |    |  \n",
      "Congratulations, Player2 has won !!!!\n",
      "\n",
      "Do you want to play again? \"Yes\" or \"No\" \n",
      "No\n",
      "Okay, BYE! Have a good day! Return soon folk\n"
     ]
    }
   ],
   "source": [
    "print('Welcome to Tic Tac Toe!')\n",
    "board = ['#',' ',' ',' ',' ',' ',' ',' ',' ',' ']\n",
    "\n",
    "num = choose_first()\n",
    "print('--->  Player{} will start the game.\\n'.format(num))\n",
    "t = player_marks(num)\n",
    "p1_mark = t[0]\n",
    "p2_mark = t[1]\n",
    "\n",
    "counter = num\n",
    "\n",
    "print('\\nRemember!!!!!!!!')\n",
    "print('Player1 marker is {}'.format(p1_mark))\n",
    "print('Player2 marker is {}\\n'.format(p2_mark))\n",
    "diagram()\n",
    "\n",
    "y = True\n",
    "while y: \n",
    "    #display_board(board)\n",
    "    \n",
    "    while full_board_check(board):\n",
    "\n",
    "        pos = player_choice(board)\n",
    "\n",
    "        if pos == 0:\n",
    "            counter = 0\n",
    "            break\n",
    "        if counter % 2 == 0:\n",
    "            place_marker(board, p2_mark, pos)\n",
    "            display_board(board)\n",
    "        else:\n",
    "            place_marker(board, p1_mark, pos)\n",
    "            display_board(board)\n",
    "            \n",
    "        counter += 1\n",
    "        if win_check(board, p1_mark) or win_check(board, p2_mark):\n",
    "            break\n",
    "\n",
    "    if counter == 0:\n",
    "        print('You stopped the game!')\n",
    "        break\n",
    "    if full_board_check(board) or (win_check(board, p1_mark) or win_check(board, p2_mark)):\n",
    "        if counter % 2 == 0:\n",
    "            print('Congratulations, Player1 has won !!!!\\n')\n",
    "        else:\n",
    "            print('Congratulations, Player2 has won !!!!\\n')\n",
    "    else:\n",
    "        print('\\nNO RESULT, Match is Tie !')\n",
    "\n",
    "    y = replay()\n",
    "    if y:\n",
    "        print('\\nWelcome to Tic Tac Toe Again!')\n",
    "        board = ['#',' ',' ',' ',' ',' ',' ',' ',' ',' ']\n",
    "\n",
    "        num = choose_first()\n",
    "        print('--->  Player{} will start the game.\\n'.format(num))\n",
    "        t = player_marks(num)\n",
    "        p1_mark = t[0]\n",
    "        p2_mark = t[1]\n",
    "\n",
    "        counter = num\n",
    "\n",
    "        print('\\nRemember!!!!!!!!')\n",
    "        print('Player1 marker is {}'.format(p1_mark))\n",
    "        print('Player2 marker is {}\\n'.format(p2_mark))\n",
    "        diagram()\n",
    "    \n"
   ]
  },
  {
   "cell_type": "markdown",
   "metadata": {
    "collapsed": true
   },
   "source": [
    "##### Good Job!"
   ]
  }
 ],
 "metadata": {
  "kernelspec": {
   "display_name": "Python 3",
   "language": "python",
   "name": "python3"
  },
  "language_info": {
   "codemirror_mode": {
    "name": "ipython",
    "version": 3
   },
   "file_extension": ".py",
   "mimetype": "text/x-python",
   "name": "python",
   "nbconvert_exporter": "python",
   "pygments_lexer": "ipython3",
   "version": "3.7.3"
  }
 },
 "nbformat": 4,
 "nbformat_minor": 1
}
